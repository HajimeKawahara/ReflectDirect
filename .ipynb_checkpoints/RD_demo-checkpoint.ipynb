{
 "cells": [
  {
   "cell_type": "markdown",
   "metadata": {},
   "source": [
    "# A Crash Course in ReflectDirect"
   ]
  },
  {
   "cell_type": "markdown",
   "metadata": {},
   "source": [
    "**Welcome — thanks for downloading!**\n",
    "\n",
    "`ReflectDirect` is designed for anyone interested in reflected light from directly-imaged planets.\n",
    "\n",
    "If you're looking for an overview of what you can do with it, you're in the right place.\n",
    "\n",
    "Before you get started, <font color=orange>make sure your Jupyter Notebook, numpy, matplotlib, and ipywidgets are up to date.</font>"
   ]
  },
  {
   "cell_type": "markdown",
   "metadata": {},
   "source": [
    "## A Little Setup"
   ]
  },
  {
   "cell_type": "markdown",
   "metadata": {},
   "source": [
    "At the simplest level you need only two statements:"
   ]
  },
  {
   "cell_type": "code",
   "execution_count": null,
   "metadata": {},
   "outputs": [],
   "source": [
    "import reflectdirect as refdir\n",
    "\n",
    "%matplotlib inline"
   ]
  },
  {
   "cell_type": "markdown",
   "metadata": {},
   "source": [
    "<font color=orange>Important:</font> put the path to the `ReflectDirect` folder <font color=green>'png_maps'</font> here. It will make importing brightness maps easier.\n",
    "\n",
    "Example: `map_source = '/Users/JCS/Some_random_place/ReflectDirect/png_maps/'`.\n",
    "\n",
    "I recommend putting any other png images you want use into this folder, as well."
   ]
  },
  {
   "cell_type": "code",
   "execution_count": null,
   "metadata": {},
   "outputs": [],
   "source": [
    "map_source = '...../ReflectDirect/png_maps/'"
   ]
  },
  {
   "cell_type": "markdown",
   "metadata": {},
   "source": [
    "And in case you need them in-notebook, here are the rest of the imports from inside the package:"
   ]
  },
  {
   "cell_type": "code",
   "execution_count": null,
   "metadata": {},
   "outputs": [],
   "source": [
    "import numpy as np\n",
    "import matplotlib.pyplot as plt\n",
    "import matplotlib.cm as cm\n",
    "import matplotlib.patches as pat\n",
    "import ipywidgets as widgets\n",
    "\n",
    "from numpy.lib import stride_tricks\n",
    "from scipy.special import sph_harm\n",
    "from scipy.interpolate import RectBivariateSpline\n",
    "from matplotlib.colors import LinearSegmentedColormap\n",
    "from matplotlib.cbook import get_sample_data\n",
    "from matplotlib._png import read_png\n",
    "from ipywidgets import Layout\n",
    "from IPython.display import display as IPy_display\n",
    "\n",
    "import exoplanetsubspots as exoss\n",
    "\n",
    "pi = np.pi"
   ]
  },
  {
   "cell_type": "markdown",
   "metadata": {},
   "source": [
    "## Things to Reference"
   ]
  },
  {
   "cell_type": "markdown",
   "metadata": {},
   "source": [
    "We use some conventions to define how planetary systems are aligned and oriented. <a id='geo_ref'></a>\n",
    "\n",
    "Just run `Geometry_Reference` to get a diagram about them. You can save this diagram by passing `ref_save=True`."
   ]
  },
  {
   "cell_type": "code",
   "execution_count": null,
   "metadata": {},
   "outputs": [],
   "source": [
    "refdir.Geometry_Reference()"
   ]
  },
  {
   "cell_type": "markdown",
   "metadata": {},
   "source": [
    "The heart of `ReflectDirect` is the class `DirectImaging_Planet`. It's how you create, interact with, and analyze your planets.<a id='class_doc'></a>\n",
    "\n",
    "You can see the class details (methods, attributes, etc.) in the print below.\n",
    "\n",
    "By the way, <font color=orange>all public methods in our package have full docstrings</font>, so use them for help!"
   ]
  },
  {
   "cell_type": "code",
   "execution_count": null,
   "metadata": {},
   "outputs": [],
   "source": [
    "print(refdir.DirectImaging_Planet.__doc__)"
   ]
  },
  {
   "cell_type": "markdown",
   "metadata": {},
   "source": [
    "## Make a Planet"
   ]
  },
  {
   "cell_type": "markdown",
   "metadata": {},
   "source": [
    "Because `DirectImaging_Planet` is a class, most of its attributes are adjustable/persistent for each instance you call. That's handy, as you'll find.\n",
    "\n",
    "We will stick with a single instance in this demo, so choose a value (1-6) for `ex_system_num` to create your planet.\n",
    "\n",
    "(FYI, there are more images in the <font color=green>'ReflectDirect/png_maps'</font> folder than shown in this demo.)"
   ]
  },
  {
   "cell_type": "code",
   "execution_count": null,
   "metadata": {},
   "outputs": [],
   "source": [
    "ex_system_num = 1\n",
    "\n",
    "### 1: The default spherical harmonics\n",
    "if ex_system_num == 1:\n",
    "    planet = refdir.DirectImaging_Planet()\n",
    "\n",
    "### 2: Different spherical harmonics\n",
    "elif ex_system_num == 2:\n",
    "    planet = refdir.DirectImaging_Planet(kind='ylm',mp_data=[[1,0,1.0],[5,-4,1.0],[4,0,1.0]],\n",
    "                                         primeD=45,alb_lims=[-1,1],name='YLM Ball')\n",
    "    planet.InvertFlipBlend_Amap(blend='EW')\n",
    "\n",
    "### 3: A random checkerboard array (Try changing `kind` to 'aryI', too.)\n",
    "elif ex_system_num == 3:\n",
    "    an_ary = np.random.random((10,20))\n",
    "    an_ary[an_ary > 0.5] = 1\n",
    "    an_ary[an_ary < 1] = 0\n",
    "    planet = refdir.DirectImaging_Planet(kind='aryA',mp_data=an_ary,name='Checkerboard')\n",
    "\n",
    "### 4: An Exo-Earth image\n",
    "elif ex_system_num == 4:\n",
    "    planet = refdir.DirectImaging_Planet(kind='pngI',mp_data=map_source+'bluemarble_2048.png',\n",
    "                                         alb_lims=[0.1,0.85],n_clat=91,n_long=181,ratRO=36,name='Exo-Earth')\n",
    "    planet.Setup_ProRet_Degeneracy()\n",
    "\n",
    "### 5: An image with a bright swath, like a glow worm.\n",
    "elif ex_system_num == 5:\n",
    "    planet = refdir.DirectImaging_Planet(kind='pngA',mp_data=map_source+'glow_worm.png',\n",
    "                                         alb_lims=[0,10],name='Glow Worm')\n",
    "    planet.InvertFlipBlend_Amap(blend='NS')\n",
    "\n",
    "### 6: Pacman!\n",
    "elif ex_system_num == 6:\n",
    "    planet = refdir.DirectImaging_Planet(kind='pngI',mp_data=map_source+'pacman.png',\n",
    "                                         alb_lims=[0,5],n_clat=181,n_long=361,name='Pacman')\n",
    "    planet.Adjust_MotionTimes(rot_res=72)\n",
    "    planet.InvertFlipBlend_Amap(image='mast',into='alt',invert=False,flip='NS',blend='none')"
   ]
  },
  {
   "cell_type": "markdown",
   "metadata": {},
   "source": [
    "Now use `EquiRect_Amap` to see how your planet looks. By default you get both the master and alternate brightness maps."
   ]
  },
  {
   "cell_type": "code",
   "execution_count": null,
   "metadata": {},
   "outputs": [],
   "source": [
    "planet.EquiRect_Amap()"
   ]
  },
  {
   "cell_type": "markdown",
   "metadata": {},
   "source": [
    "At first, your planet has a near-edge-on orbit with no tilt, and its `times` span -0.5 to 0.5 orbits.\n",
    "\n",
    "One way to change this setup is by using `Adjust_Geometry` and `Adjust_MotionTimes`. Try setting `demo_adjust=True` if you want."
   ]
  },
  {
   "cell_type": "code",
   "execution_count": null,
   "metadata": {},
   "outputs": [],
   "source": [
    "demo_adjust = False\n",
    "\n",
    "if demo_adjust == True:\n",
    "    planet.Adjust_Geometry(which='both',incD=63,oblD=35,solD=285)\n",
    "    planet.Adjust_MotionTimes(which='both',ratRO=3.0,orb_min=0.3,orb_max=3.7)"
   ]
  },
  {
   "cell_type": "markdown",
   "metadata": {},
   "source": [
    "Then, use `Info_Printout` to view your parameters. It's a quick way to check an instance."
   ]
  },
  {
   "cell_type": "code",
   "execution_count": null,
   "metadata": {},
   "outputs": [],
   "source": [
    "planet.Info_Printout()"
   ]
  },
  {
   "cell_type": "markdown",
   "metadata": {},
   "source": [
    "## Analyze Your System"
   ]
  },
  {
   "cell_type": "markdown",
   "metadata": {},
   "source": [
    "Let's test more features of the class `DirectImaging_Planet`. You can run most things in any order you want.\n",
    "\n",
    "Also, notice the [class docstring](#class_doc) says several methods store their figures? Those attributes are each `fig_****` — replace stars with the first 4-5 letters of the method (all lowercase)."
   ]
  },
  {
   "cell_type": "markdown",
   "metadata": {},
   "source": [
    "#### Geometry"
   ]
  },
  {
   "cell_type": "markdown",
   "metadata": {},
   "source": [
    "Use `Geometry_Diagram` for an overhead view of the system, like in [the reference diagram](#geo_ref):"
   ]
  },
  {
   "cell_type": "code",
   "execution_count": null,
   "metadata": {},
   "outputs": [],
   "source": [
    "planet.Geometry_Diagram()"
   ]
  },
  {
   "cell_type": "markdown",
   "metadata": {},
   "source": [
    "Or see things on the observer's line of sight with `Orthographic_Viewer`. Just pass your orbital phase in degrees.\n",
    "\n",
    "There are different viewing styles here; try `show='real'` for example."
   ]
  },
  {
   "cell_type": "code",
   "execution_count": null,
   "metadata": {},
   "outputs": [],
   "source": [
    "planet.Orthographic_Viewer(0,show='amap',alt=True)"
   ]
  },
  {
   "cell_type": "markdown",
   "metadata": {},
   "source": [
    "#### Light Curve"
   ]
  },
  {
   "cell_type": "markdown",
   "metadata": {},
   "source": [
    "Graph some light curves with `LightCurve_Plot`, which uses the attribute `times`.\n",
    "\n",
    "There are different viewing styles here; try `show='appar'` for example.\n",
    "\n",
    "(If you want to return actual data, use `Light_Curves` instead.)"
   ]
  },
  {
   "cell_type": "code",
   "execution_count": null,
   "metadata": {},
   "outputs": [],
   "source": [
    "planet.LightCurve_Plot(alt=True,diff=False,show='flux')"
   ]
  },
  {
   "cell_type": "markdown",
   "metadata": {},
   "source": [
    "#### Kernel"
   ]
  },
  {
   "cell_type": "markdown",
   "metadata": {},
   "source": [
    "The kernel represents spots on your planet that are both visible *and* lit up.\n",
    "\n",
    "Want its details at a given phase? Use `Kernels_Plot`.\n",
    "\n",
    "And add a faint version of your map with `over_amap=True`."
   ]
  },
  {
   "cell_type": "code",
   "execution_count": null,
   "metadata": {},
   "outputs": [],
   "source": [
    "planet.Kernels_Plot(15,over_amap=False)"
   ]
  },
  {
   "cell_type": "markdown",
   "metadata": {},
   "source": [
    "Or see how the kernel's characteristics evolve over an orbit with `KChar_Evolve_Plot`.\n",
    "\n",
    "Try passing `'dom'` or `explode='obl'`, for example."
   ]
  },
  {
   "cell_type": "code",
   "execution_count": null,
   "metadata": {},
   "outputs": [],
   "source": [
    "planet.KChar_Evolve_Plot('wid',explode='none',gap=10)"
   ]
  },
  {
   "cell_type": "markdown",
   "metadata": {},
   "source": [
    "#### Spin Axis"
   ]
  },
  {
   "cell_type": "markdown",
   "metadata": {},
   "source": [
    "With `SpinAxis_Constraints`, you can predict how real observations might constrain your planet's spin axis. It's all based on the kernel.\n",
    "\n",
    "Also try `constraint='real'`. This takes longer to calculate but gives you *n*-sigma regions."
   ]
  },
  {
   "cell_type": "code",
   "execution_count": null,
   "metadata": {},
   "outputs": [],
   "source": [
    "planet.SpinAxis_Constraints(phaseD_list=[50,[155,290]],constraint='perf')"
   ]
  },
  {
   "cell_type": "markdown",
   "metadata": {},
   "source": [
    "## Interact in the Sand(box)"
   ]
  },
  {
   "cell_type": "markdown",
   "metadata": {},
   "source": [
    "The master + alternate parameters are useful. You can compare and contrast specific maps, spin rates, axis alignments, and much more with them.\n",
    "\n",
    "But sometimes you just want to play in the sand! That's what `Sandbox_Reflection` is for. It combines several methods into one and gives you a bunch of interactive controls.\n",
    "\n",
    "Give it a go below. And **protip: use the extra slots.** You can see up to 4 phases at a time that way."
   ]
  },
  {
   "cell_type": "code",
   "execution_count": null,
   "metadata": {},
   "outputs": [],
   "source": [
    "planet.Sandbox_Reflection()"
   ]
  },
  {
   "cell_type": "markdown",
   "metadata": {},
   "source": [
    "## Just One More Thing..."
   ]
  },
  {
   "cell_type": "markdown",
   "metadata": {},
   "source": [
    "This demo covers a lot of options, but not *everything* `ReflectDirect` can do.\n",
    "\n",
    "<font color=orange>**Be sure** to check out the API and method docstrings for all the details.</font> Can't stress that enough.\n",
    "\n",
    "Enjoy!"
   ]
  },
  {
   "cell_type": "markdown",
   "metadata": {},
   "source": [
    "#### *Questions/Comments/Feedback?*"
   ]
  },
  {
   "cell_type": "markdown",
   "metadata": {},
   "source": [
    "*Email me:* <font color=orange>joelcolinschwartz@gmail.com</font>\n",
    "\n",
    "*And find more:* __[joelcolinschwartz.com](http://joelcolinschwartz.com)__"
   ]
  }
 ],
 "metadata": {
  "kernelspec": {
   "display_name": "Python 3",
   "language": "python",
   "name": "python3"
  },
  "language_info": {
   "codemirror_mode": {
    "name": "ipython",
    "version": 3
   },
   "file_extension": ".py",
   "mimetype": "text/x-python",
   "name": "python",
   "nbconvert_exporter": "python",
   "pygments_lexer": "ipython3",
   "version": "3.4.2"
  },
  "widgets": {
   "state": {
    "15763ccb1eac4dc4a3456de6ee5813bf": {
     "views": [
      {
       "cell_index": 17
      }
     ]
    },
    "22c28d385a5b4b9b91595d86de838369": {
     "views": [
      {
       "cell_index": 17
      }
     ]
    },
    "7692ff52d94949d5bc34c2a4cec81842": {
     "views": [
      {
       "cell_index": 17
      }
     ]
    },
    "9cdd3d601e67465db3578991d2f379a8": {
     "views": [
      {
       "cell_index": 17
      }
     ]
    },
    "aac2cf8746484c4883f1b09bbe680aca": {
     "views": [
      {
       "cell_index": 17
      }
     ]
    },
    "ac93a9ce20f149248dca82968a0dff3a": {
     "views": [
      {
       "cell_index": 17
      }
     ]
    }
   },
   "version": "1.2.0"
  }
 },
 "nbformat": 4,
 "nbformat_minor": 1
}
